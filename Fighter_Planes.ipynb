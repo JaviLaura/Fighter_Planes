{
  "nbformat": 4,
  "nbformat_minor": 0,
  "metadata": {
    "colab": {
      "provenance": [],
      "collapsed_sections": [],
      "include_colab_link": true
    },
    "kernelspec": {
      "name": "python3",
      "display_name": "Python 3"
    }
  },
  "cells": [
    {
      "cell_type": "markdown",
      "metadata": {
        "id": "view-in-github",
        "colab_type": "text"
      },
      "source": [
        "<a href=\"https://colab.research.google.com/github/JaviLaura/Fighter_Planes/blob/main/Fighter_Planes.ipynb\" target=\"_parent\"><img src=\"https://colab.research.google.com/assets/colab-badge.svg\" alt=\"Open In Colab\"/></a>"
      ]
    },
    {
      "cell_type": "markdown",
      "metadata": {
        "id": "iaHp5FcC7T09"
      },
      "source": [
        "#<img src=\"https://static.junilearning.com/images/juni_logo.png\" height=75 align=center hspace=\"5px\"> **DS2 Project 1: Fighter Planes**"
      ]
    },
    {
      "cell_type": "markdown",
      "metadata": {
        "id": "gHRTk1KC7V93"
      },
      "source": [
        "###**Fighter Planes - Part 1**"
      ]
    },
    {
      "cell_type": "markdown",
      "metadata": {
        "id": "vbPmji8Q7lW7"
      },
      "source": [
        "The following images show the damage (indicated by the red dots) on aircrafts that returned from a mission. Create clusters of data by splitting the plane into regions and compare the damage in each cluster using a bar graph to determine where reinforcements need to be applied to the planes.\n",
        "\n",
        "<img src=\"https://static.junilearning.com/python_data_science/plane1.jpeg\"  hspace=\"5px\" height=\"300\">\n",
        "<img src=\"https://static.junilearning.com/python_data_science/plane2.jpeg\"  hspace=\"5px\" height=\"300\">\n",
        "<img src=\"https://static.junilearning.com/python_data_science/plane3.jpeg\"  hspace=\"5px\" height=\"300\">\n",
        "<img src=\"https://static.junilearning.com/python_data_science/plane4.jpeg\"  hspace=\"5px\" height=\"300\">\n",
        "<img src=\"https://static.junilearning.com/python_data_science/plane5.jpeg\"  hspace=\"5px\" height=\"300\">"
      ]
    },
    {
      "cell_type": "markdown",
      "metadata": {
        "id": "UF_qrBfT7qsx"
      },
      "source": [
        "###Analysis:"
      ]
    },
    {
      "cell_type": "markdown",
      "metadata": {
        "id": "AxNKEroX7wlA"
      },
      "source": [
        "Consider the following clusters:\n",
        "\n",
        "<img src=\"https://static.junilearning.com/python_data_science/plane_blank.jpeg\"  hspace=\"5px\" height=\"300\">"
      ]
    },
    {
      "cell_type": "code",
      "source": [],
      "metadata": {
        "id": "HuNXfwWEbt4N"
      },
      "execution_count": null,
      "outputs": []
    },
    {
      "cell_type": "code",
      "source": [
        "import matplotlib.pyplot as plt\n"
      ],
      "metadata": {
        "id": "eLvKLRrXbiuQ"
      },
      "execution_count": null,
      "outputs": []
    },
    {
      "cell_type": "code",
      "metadata": {
        "id": "zOsI1Zh877fS"
      },
      "source": [
        "regionList = [\"Left\", \"Front\", \"Middle\", \"Right\", \"Back\"] "
      ],
      "execution_count": null,
      "outputs": []
    },
    {
      "cell_type": "code",
      "source": [
        "damageList = [34,4,10,42,33]"
      ],
      "metadata": {
        "id": "JQx1LGSPbwhC"
      },
      "execution_count": null,
      "outputs": []
    },
    {
      "cell_type": "code",
      "source": [
        "plt.bar(regionList,damageList)"
      ],
      "metadata": {
        "colab": {
          "base_uri": "https://localhost:8080/",
          "height": 282
        },
        "id": "NgfZ-zMkcjfx",
        "outputId": "f0d96beb-8c8f-4638-a7c8-60f72f96e123"
      },
      "execution_count": null,
      "outputs": [
        {
          "output_type": "execute_result",
          "data": {
            "text/plain": [
              "<BarContainer object of 5 artists>"
            ]
          },
          "metadata": {},
          "execution_count": 7
        },
        {
          "output_type": "display_data",
          "data": {
            "text/plain": [
              "<Figure size 432x288 with 1 Axes>"
            ],
            "image/png": "[encoded data removed]"
          },
          "metadata": {
            "needs_background": "light"
          }
        }
      ]
    },
    {
      "cell_type": "code",
      "source": [
        "#Other option is to have a bigger list for both regions and damage points:\n",
        "biggerList: [\"Front_1\", \"Middle_1\", \"Left_1\", \"Right_1\", \"Back_1\", \"Front_2\", \"Middle_2\", \"Left_2\", \"Right_2\", \"Back_2\", \"Front_3\", \"Middle_3\", \"Left_3\", \"Right_3\", \"Back_3\", \"Front_4\", \"Middle_4\", \"Left_4\", \"Right_4\", \"Back_4\", \"Front_5\", \"Middle_5\", \"Left_5\", \"Right_5\", \"Back_5\"]\n"
      ],
      "metadata": {
        "id": "jK1B7wMuaq_0"
      },
      "execution_count": null,
      "outputs": []
    },
    {
      "cell_type": "markdown",
      "metadata": {
        "id": "hjgXUHQK79zT"
      },
      "source": [
        "###**Fighter Planes - Part 2**"
      ]
    },
    {
      "cell_type": "markdown",
      "metadata": {
        "id": "9nrc3h3c8T1-"
      },
      "source": [
        "Now consider the following 5 planes found in the ocean. Revisit your process and create another bar graph for these 5 planes\n",
        "\n",
        "<img src=\"https://static.junilearning.com/python_data_science/plane_ocean1.jpeg\"  hspace=\"5px\" height=\"300\">\n",
        "<img src=\"https://static.junilearning.com/python_data_science/plane_ocean2.jpeg\"  hspace=\"5px\" height=\"300\">\n",
        "<img src=\"https://static.junilearning.com/python_data_science/plane_ocean3.jpeg\"  hspace=\"5px\" height=\"300\">\n",
        "<img src=\"https://static.junilearning.com/python_data_science/plane_ocean4.jpeg\"  hspace=\"5px\" height=\"300\">\n",
        "<img src=\"https://static.junilearning.com/python_data_science/plane_ocean5.jpeg\"  hspace=\"5px\" height=\"300\">"
      ]
    },
    {
      "cell_type": "markdown",
      "metadata": {
        "id": "UM700LQk8Zjt"
      },
      "source": [
        "###Analysis:"
      ]
    },
    {
      "cell_type": "markdown",
      "metadata": {
        "id": "iUgJpswI8xVq"
      },
      "source": []
    },
    {
      "cell_type": "code",
      "metadata": {
        "id": "aJcTjEfY8ti2",
        "colab": {
          "base_uri": "https://localhost:8080/",
          "height": 282
        },
        "outputId": "f1c57add-5896-4240-d10d-2f52f806da6a"
      },
      "source": [
        " oceanRegions = [\"Left\", \"Front\", \"Middle\", \"Right\", \"Back\"]\n",
        " damageOcean = [14,20,44,16,12]\n",
        " plt.bar(oceanRegions,damageOcean)"
      ],
      "execution_count": null,
      "outputs": [
        {
          "output_type": "execute_result",
          "data": {
            "text/plain": [
              "<BarContainer object of 5 artists>"
            ]
          },
          "metadata": {},
          "execution_count": 9
        },
        {
          "output_type": "display_data",
          "data": {
            "text/plain": [
              "<Figure size 432x288 with 1 Axes>"
            ],
            "image/png": "[encoded data removed]"
          },
          "metadata": {
            "needs_background": "light"
          }
        }
      ]
    },
    {
      "cell_type": "code",
      "source": [
        "damageList = [34,4,10,42,33]"
      ],
      "metadata": {
        "id": "hyubi0ogLqVM"
      },
      "execution_count": null,
      "outputs": []
    },
    {
      "cell_type": "code",
      "source": [
        "regionList = [\"Left\", \"Front\", \"Middle\", \"Right\", \"Back\"]\n",
        "plt.bar(regionList,damageList)\n",
        "\n"
      ],
      "metadata": {
        "colab": {
          "base_uri": "https://localhost:8080/",
          "height": 282
        },
        "id": "dGP0Mh3aMgo0",
        "outputId": "ade596a7-313e-4387-e7c3-49a44fa0c1bd"
      },
      "execution_count": null,
      "outputs": [
        {
          "output_type": "execute_result",
          "data": {
            "text/plain": [
              "<BarContainer object of 5 artists>"
            ]
          },
          "metadata": {},
          "execution_count": 11
        },
        {
          "output_type": "display_data",
          "data": {
            "text/plain": [
              "<Figure size 432x288 with 1 Axes>"
            ],
            "image/png": "[encoded data removed]"
          },
          "metadata": {
            "needs_background": "light"
          }
        }
      ]
    },
    {
      "cell_type": "markdown",
      "metadata": {
        "id": "iN90tHBx823X"
      },
      "source": [
        "###**Fighter Planes - Part 3**"
      ]
    },
    {
      "cell_type": "markdown",
      "metadata": {
        "id": "n_p9PvZy8482"
      },
      "source": [
        "What conclusions can we draw from your analysis? Where should the plane be reinforced so that more planes return from missions? Was there a relationship between the total damage and planes returning?"
      ]
    },
    {
      "cell_type": "markdown",
      "source": [
        "The middle part should be reinforced. This is where the most damage was found on planes in the ocean. I don't see a relationship between the total damage and planes returning."
      ],
      "metadata": {
        "id": "N_uTuJ48d6_6"
      }
    },
    {
      "cell_type": "markdown",
      "metadata": {
        "id": "KfJUsitX88QP"
      },
      "source": [
        "Planes that had minimal front damage and middle damage were able to return.\n",
        "\n"
      ]
    }
  ]
}